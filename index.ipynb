{
 "cells": [
  {
   "cell_type": "markdown",
   "metadata": {},
   "source": [
    "# Flatiron Project 1 - Seattle Housing Data\n",
    "\n",
    "The following analysis is the collaborative work of Mate Pocs and Naweed Ahmed, created in 2019 January, for the Flatiron School Project. \n",
    "\n",
    "Our Jupyter Notebook is structured as follows:\n",
    "\n",
    "- __Section 1, Data Cleaning__: In this section, we take the original database, kc_house_data.csv, and clean up the missing values, duplicates, erroneous data inputs, and outliers. \n",
    "- __Section 2, Data Exploration__: We ask and answer exploratory questions regarding the data. At this point, we are using the data we have already cleaned up in Section 1. \n",
    "- __Section 3, Linear Regression__: In the last section, we fit a linear regression model and try to find the best model to describe the variance in the price of the houses. "
   ]
  },
  {
   "cell_type": "markdown",
   "metadata": {},
   "source": [
    "## Section 1 - Data Cleaning"
   ]
  },
  {
   "cell_type": "code",
   "execution_count": null,
   "metadata": {},
   "outputs": [],
   "source": [
    "# importing librarires and data"
   ]
  }
 ],
 "metadata": {
  "kernelspec": {
   "display_name": "learn-env",
   "language": "python",
   "name": "learn-env"
  },
  "language_info": {
   "codemirror_mode": {
    "name": "ipython",
    "version": 3
   },
   "file_extension": ".py",
   "mimetype": "text/x-python",
   "name": "python",
   "nbconvert_exporter": "python",
   "pygments_lexer": "ipython3",
   "version": "3.6.6"
  }
 },
 "nbformat": 4,
 "nbformat_minor": 2
}
